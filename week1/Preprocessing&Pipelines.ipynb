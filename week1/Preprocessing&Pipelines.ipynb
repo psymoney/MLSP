{
 "cells": [
  {
   "cell_type": "code",
   "execution_count": null,
   "id": "613d3172",
   "metadata": {},
   "outputs": [],
   "source": [
    "# Encoding dummy variables\n",
    "\n",
    "import pandas as pd\n",
    "\n",
    "music_df = pd.read_csv('datafile.csv')\n",
    "music_dummies = pd.get_dummies(music_df[\"genre\"], drop_first=True)\n",
    "print(music_dummies.head())\n",
    "\n",
    "music_dummies = pd.concat([music_df, music_dummies], axis=1)\n",
    "music_dummies = music_dummies.drop(\"genre\", axis=1)"
   ]
  },
  {
   "cell_type": "code",
   "execution_count": null,
   "id": "fbd3beca",
   "metadata": {},
   "outputs": [],
   "source": [
    "muisc_dummies = pd.get_dummies(music_df, drop_first=True)\n",
    "print(music_dummies.columns)"
   ]
  },
  {
   "cell_type": "code",
   "execution_count": null,
   "id": "ec7fba93",
   "metadata": {},
   "outputs": [],
   "source": [
    "#Linear regression with dummy variables\n",
    "\n",
    "from sklearn.model_selection import cross_val_score, KFold\n",
    "from sklearn.linear_model import LInearRegression\n",
    "\n",
    "X = music_dummies.drop(\"popularity\", axis=1).values\n",
    "y = music_dummies[\"popularity\"].values\n",
    "X_train, X_test, y_train, y_test = train_test_split(X, y, test_size=0.2, random_state=42)\n",
    "kf = FKlod(n_splits=5, shuffle=True, random_state=42)\n",
    "\n",
    "linreg = LinearRegression()\n",
    "linreg_cv = cross_val_score(linreg, X_train, y_train, cv=kf, scoring=\"neg_mean_squared_error\")\n",
    "\n",
    "print(np.sqrt(-linreg_cv))"
   ]
  }
 ],
 "metadata": {
  "kernelspec": {
   "display_name": "Python 3 (ipykernel)",
   "language": "python",
   "name": "python3"
  },
  "language_info": {
   "codemirror_mode": {
    "name": "ipython",
    "version": 3
   },
   "file_extension": ".py",
   "mimetype": "text/x-python",
   "name": "python",
   "nbconvert_exporter": "python",
   "pygments_lexer": "ipython3",
   "version": "3.10.6"
  }
 },
 "nbformat": 4,
 "nbformat_minor": 5
}
